{
 "cells": [
  {
   "cell_type": "code",
   "execution_count": 1,
   "metadata": {},
   "outputs": [],
   "source": [
    "import pandas as pd\n",
    "from vaderSentiment.vaderSentiment import SentimentIntensityAnalyzer\n",
    "\n"
   ]
  },
  {
   "cell_type": "code",
   "execution_count": 2,
   "metadata": {},
   "outputs": [],
   "source": [
    "# read xlsx file \n",
    "data = pd.read_excel(\"articles.xlsx\")"
   ]
  },
  {
   "cell_type": "code",
   "execution_count": 3,
   "metadata": {},
   "outputs": [
    {
     "data": {
      "text/html": [
       "<div>\n",
       "<style scoped>\n",
       "    .dataframe tbody tr th:only-of-type {\n",
       "        vertical-align: middle;\n",
       "    }\n",
       "\n",
       "    .dataframe tbody tr th {\n",
       "        vertical-align: top;\n",
       "    }\n",
       "\n",
       "    .dataframe thead th {\n",
       "        text-align: right;\n",
       "    }\n",
       "</style>\n",
       "<table border=\"1\" class=\"dataframe\">\n",
       "  <thead>\n",
       "    <tr style=\"text-align: right;\">\n",
       "      <th></th>\n",
       "      <th>article_id</th>\n",
       "      <th>top_article</th>\n",
       "      <th>engagement_reaction_count</th>\n",
       "      <th>engagement_comment_count</th>\n",
       "      <th>engagement_share_count</th>\n",
       "      <th>engagement_comment_plugin_count</th>\n",
       "    </tr>\n",
       "  </thead>\n",
       "  <tbody>\n",
       "    <tr>\n",
       "      <th>count</th>\n",
       "      <td>10437.000000</td>\n",
       "      <td>10435.000000</td>\n",
       "      <td>10319.000000</td>\n",
       "      <td>10319.000000</td>\n",
       "      <td>10319.000000</td>\n",
       "      <td>10319.000000</td>\n",
       "    </tr>\n",
       "    <tr>\n",
       "      <th>mean</th>\n",
       "      <td>5218.000000</td>\n",
       "      <td>0.122089</td>\n",
       "      <td>381.395290</td>\n",
       "      <td>124.032949</td>\n",
       "      <td>196.236263</td>\n",
       "      <td>0.011629</td>\n",
       "    </tr>\n",
       "    <tr>\n",
       "      <th>std</th>\n",
       "      <td>3013.046714</td>\n",
       "      <td>0.327404</td>\n",
       "      <td>4433.344792</td>\n",
       "      <td>965.351188</td>\n",
       "      <td>1020.680229</td>\n",
       "      <td>0.268276</td>\n",
       "    </tr>\n",
       "    <tr>\n",
       "      <th>min</th>\n",
       "      <td>0.000000</td>\n",
       "      <td>0.000000</td>\n",
       "      <td>0.000000</td>\n",
       "      <td>0.000000</td>\n",
       "      <td>0.000000</td>\n",
       "      <td>0.000000</td>\n",
       "    </tr>\n",
       "    <tr>\n",
       "      <th>25%</th>\n",
       "      <td>2609.000000</td>\n",
       "      <td>0.000000</td>\n",
       "      <td>0.000000</td>\n",
       "      <td>0.000000</td>\n",
       "      <td>1.000000</td>\n",
       "      <td>0.000000</td>\n",
       "    </tr>\n",
       "    <tr>\n",
       "      <th>50%</th>\n",
       "      <td>5218.000000</td>\n",
       "      <td>0.000000</td>\n",
       "      <td>1.000000</td>\n",
       "      <td>0.000000</td>\n",
       "      <td>8.000000</td>\n",
       "      <td>0.000000</td>\n",
       "    </tr>\n",
       "    <tr>\n",
       "      <th>75%</th>\n",
       "      <td>7827.000000</td>\n",
       "      <td>0.000000</td>\n",
       "      <td>43.000000</td>\n",
       "      <td>12.000000</td>\n",
       "      <td>47.500000</td>\n",
       "      <td>0.000000</td>\n",
       "    </tr>\n",
       "    <tr>\n",
       "      <th>max</th>\n",
       "      <td>10436.000000</td>\n",
       "      <td>1.000000</td>\n",
       "      <td>354132.000000</td>\n",
       "      <td>48490.000000</td>\n",
       "      <td>39422.000000</td>\n",
       "      <td>15.000000</td>\n",
       "    </tr>\n",
       "  </tbody>\n",
       "</table>\n",
       "</div>"
      ],
      "text/plain": [
       "         article_id   top_article  engagement_reaction_count  \\\n",
       "count  10437.000000  10435.000000               10319.000000   \n",
       "mean    5218.000000      0.122089                 381.395290   \n",
       "std     3013.046714      0.327404                4433.344792   \n",
       "min        0.000000      0.000000                   0.000000   \n",
       "25%     2609.000000      0.000000                   0.000000   \n",
       "50%     5218.000000      0.000000                   1.000000   \n",
       "75%     7827.000000      0.000000                  43.000000   \n",
       "max    10436.000000      1.000000              354132.000000   \n",
       "\n",
       "       engagement_comment_count  engagement_share_count  \\\n",
       "count              10319.000000            10319.000000   \n",
       "mean                 124.032949              196.236263   \n",
       "std                  965.351188             1020.680229   \n",
       "min                    0.000000                0.000000   \n",
       "25%                    0.000000                1.000000   \n",
       "50%                    0.000000                8.000000   \n",
       "75%                   12.000000               47.500000   \n",
       "max                48490.000000            39422.000000   \n",
       "\n",
       "       engagement_comment_plugin_count  \n",
       "count                     10319.000000  \n",
       "mean                          0.011629  \n",
       "std                           0.268276  \n",
       "min                           0.000000  \n",
       "25%                           0.000000  \n",
       "50%                           0.000000  \n",
       "75%                           0.000000  \n",
       "max                          15.000000  "
      ]
     },
     "execution_count": 3,
     "metadata": {},
     "output_type": "execute_result"
    }
   ],
   "source": [
    "# Summary of the data\n",
    "data.describe()"
   ]
  },
  {
   "cell_type": "code",
   "execution_count": 4,
   "metadata": {},
   "outputs": [
    {
     "name": "stdout",
     "output_type": "stream",
     "text": [
      "<class 'pandas.core.frame.DataFrame'>\n",
      "RangeIndex: 10437 entries, 0 to 10436\n",
      "Data columns (total 15 columns):\n",
      " #   Column                           Non-Null Count  Dtype  \n",
      "---  ------                           --------------  -----  \n",
      " 0   article_id                       10437 non-null  int64  \n",
      " 1   source_id                        10437 non-null  object \n",
      " 2   source_name                      10437 non-null  object \n",
      " 3   author                           9417 non-null   object \n",
      " 4   title                            10435 non-null  object \n",
      " 5   description                      10413 non-null  object \n",
      " 6   url                              10436 non-null  object \n",
      " 7   url_to_image                     9781 non-null   object \n",
      " 8   published_at                     10436 non-null  object \n",
      " 9   content                          9145 non-null   object \n",
      " 10  top_article                      10435 non-null  float64\n",
      " 11  engagement_reaction_count        10319 non-null  float64\n",
      " 12  engagement_comment_count         10319 non-null  float64\n",
      " 13  engagement_share_count           10319 non-null  float64\n",
      " 14  engagement_comment_plugin_count  10319 non-null  float64\n",
      "dtypes: float64(5), int64(1), object(9)\n",
      "memory usage: 1.2+ MB\n"
     ]
    }
   ],
   "source": [
    "# Summary of the columns\n",
    "data.info()"
   ]
  },
  {
   "cell_type": "code",
   "execution_count": 5,
   "metadata": {},
   "outputs": [
    {
     "data": {
      "text/plain": [
       "source_name\n",
       "460.0                         1\n",
       "ABC News                   1139\n",
       "Al Jazeera English          499\n",
       "BBC News                   1242\n",
       "Business Insider           1048\n",
       "CBS News                    952\n",
       "CNN                        1132\n",
       "ESPN                         82\n",
       "Newsweek                    539\n",
       "Reuters                    1252\n",
       "The Irish Times            1232\n",
       "The New York Times          986\n",
       "The Wall Street Journal     333\n",
       "Name: article_id, dtype: int64"
      ]
     },
     "execution_count": 5,
     "metadata": {},
     "output_type": "execute_result"
    }
   ],
   "source": [
    "# Counting the number of articles per source\n",
    "data.groupby(['source_name'])['article_id'].count()"
   ]
  },
  {
   "cell_type": "code",
   "execution_count": 6,
   "metadata": {},
   "outputs": [
    {
     "data": {
      "text/plain": [
       "source_name\n",
       "460.0                            0.0\n",
       "ABC News                    343779.0\n",
       "Al Jazeera English          140410.0\n",
       "BBC News                    545396.0\n",
       "Business Insider            216545.0\n",
       "CBS News                    459741.0\n",
       "CNN                        1218206.0\n",
       "ESPN                             0.0\n",
       "Newsweek                     93167.0\n",
       "Reuters                      16963.0\n",
       "The Irish Times              26838.0\n",
       "The New York Times          790449.0\n",
       "The Wall Street Journal      84124.0\n",
       "Name: engagement_reaction_count, dtype: float64"
      ]
     },
     "execution_count": 6,
     "metadata": {},
     "output_type": "execute_result"
    }
   ],
   "source": [
    "# Calculating the sum of engagements per source\n",
    "data.groupby(['source_name'])['engagement_reaction_count'].sum()"
   ]
  },
  {
   "cell_type": "code",
   "execution_count": 7,
   "metadata": {},
   "outputs": [],
   "source": [
    "# Drop unneeded column\n",
    "data = data.drop('engagement_comment_plugin_count', axis=1)"
   ]
  },
  {
   "cell_type": "markdown",
   "metadata": {},
   "source": [
    "Utilizing FUNCTIONS in Python"
   ]
  },
  {
   "cell_type": "code",
   "execution_count": 8,
   "metadata": {},
   "outputs": [],
   "source": [
    "# Create a keyword flag\n",
    "def keywordflag(keyword):\n",
    "    length = len(data)\n",
    "    keyword_flag = []\n",
    "    for n in range(0, length):\n",
    "        heading = data['title'][n]\n",
    "        try:\n",
    "            if keyword in heading:\n",
    "                flag = 1\n",
    "            else:\n",
    "                flag = 0\n",
    "        except:\n",
    "            flag = 0\n",
    "        keyword_flag.append(flag)\n",
    "    return keyword_flag\n",
    "\n",
    "keywordflag = keywordflag('murder')   \n",
    "    "
   ]
  },
  {
   "cell_type": "code",
   "execution_count": 9,
   "metadata": {},
   "outputs": [],
   "source": [
    "data['keywordflag'] = pd.Series(keywordflag)"
   ]
  },
  {
   "cell_type": "code",
   "execution_count": 14,
   "metadata": {},
   "outputs": [],
   "source": [
    "# SentimentIntensityAnalyzer\n",
    "sent_int = SentimentIntensityAnalyzer()\n",
    "\n",
    "text = data['title'][15]\n",
    "sent = sent_int.polarity_scores(text)\n",
    "\n",
    "neg = sent['neg']\n",
    "neu = sent['neu']\n",
    "pos = sent['pos']\n"
   ]
  },
  {
   "cell_type": "code",
   "execution_count": 21,
   "metadata": {},
   "outputs": [],
   "source": [
    "# using a for loop to extract sentiment per title\n",
    "\n",
    "title_neg_sent = []\n",
    "title_neu_sent = []\n",
    "title_pos_sent = []\n",
    "\n",
    "for n in range(0, len(data)):\n",
    "    try:\n",
    "        text = data['title'][n]\n",
    "        sent_int = SentimentIntensityAnalyzer()\n",
    "        sent = sent_int.polarity_scores(text)\n",
    "        title_neg_sent.append(sent['neg'])\n",
    "        title_neu_sent.append(sent['neu'])\n",
    "        title_pos_sent.append(sent['pos'])\n",
    "    except:\n",
    "        title_neg_sent.append(0)\n",
    "        title_neu_sent.append(0)\n",
    "        title_pos_sent.append(0)"
   ]
  },
  {
   "cell_type": "code",
   "execution_count": 22,
   "metadata": {},
   "outputs": [],
   "source": [
    "title_neg_sent = pd.Series(title_neg_sent)\n",
    "title_neu_sent = pd.Series(title_neu_sent)\n",
    "title_pos_sent = pd.Series(title_pos_sent)"
   ]
  },
  {
   "cell_type": "code",
   "execution_count": 26,
   "metadata": {},
   "outputs": [],
   "source": [
    "data['title_neg_sentiment'] = title_neg_sent\n",
    "data['title_neu_sentiment'] = title_neu_sent\n",
    "data['title_pos_sentiment'] = title_pos_sent"
   ]
  },
  {
   "cell_type": "code",
   "execution_count": 27,
   "metadata": {},
   "outputs": [],
   "source": [
    "data.to_excel('blogme_cleaned.xlsx', sheet_name='blogmedata', index=False)"
   ]
  }
 ],
 "metadata": {
  "interpreter": {
   "hash": "c7606b1820dd926153a760bb655cac673dae976ad40011f7f145423d0d5cea92"
  },
  "kernelspec": {
   "display_name": "Python 3.9.7 ('base')",
   "language": "python",
   "name": "python3"
  },
  "language_info": {
   "codemirror_mode": {
    "name": "ipython",
    "version": 3
   },
   "file_extension": ".py",
   "mimetype": "text/x-python",
   "name": "python",
   "nbconvert_exporter": "python",
   "pygments_lexer": "ipython3",
   "version": "3.9.7"
  },
  "orig_nbformat": 4
 },
 "nbformat": 4,
 "nbformat_minor": 2
}
