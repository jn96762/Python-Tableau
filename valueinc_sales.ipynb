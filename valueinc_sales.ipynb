{
 "cells": [
  {
   "cell_type": "markdown",
   "metadata": {},
   "source": [
    "Importing pandas and reading the data file"
   ]
  },
  {
   "cell_type": "code",
   "execution_count": 84,
   "metadata": {},
   "outputs": [],
   "source": [
    "import pandas as pd\n",
    "import datetime\n",
    "\n",
    "data = pd.read_csv('transaction.csv', sep=';')"
   ]
  },
  {
   "cell_type": "markdown",
   "metadata": {},
   "source": [
    "Summary of the data"
   ]
  },
  {
   "cell_type": "code",
   "execution_count": 85,
   "metadata": {},
   "outputs": [
    {
     "name": "stdout",
     "output_type": "stream",
     "text": [
      "<class 'pandas.core.frame.DataFrame'>\n",
      "RangeIndex: 1047588 entries, 0 to 1047587\n",
      "Data columns (total 13 columns):\n",
      " #   Column                  Non-Null Count    Dtype  \n",
      "---  ------                  --------------    -----  \n",
      " 0   UserId                  1047588 non-null  int64  \n",
      " 1   TransactionId           1047588 non-null  int64  \n",
      " 2   Year                    1047588 non-null  int64  \n",
      " 3   Month                   1047588 non-null  object \n",
      " 4   Day                     1047588 non-null  int64  \n",
      " 5   Time                    1047588 non-null  object \n",
      " 6   ItemCode                1047588 non-null  int64  \n",
      " 7   ItemDescription         1044797 non-null  object \n",
      " 8   NumberOfItemsPurchased  1047588 non-null  int64  \n",
      " 9   CostPerItem             1047588 non-null  float64\n",
      " 10  SellingPricePerItem     1047588 non-null  float64\n",
      " 11  Country                 1047588 non-null  object \n",
      " 12  ClientKeywords          1047588 non-null  object \n",
      "dtypes: float64(2), int64(6), object(5)\n",
      "memory usage: 103.9+ MB\n"
     ]
    }
   ],
   "source": [
    "data.info()"
   ]
  },
  {
   "cell_type": "markdown",
   "metadata": {},
   "source": [
    "Working with calculations\n",
    "\n",
    "Defining variables"
   ]
  },
  {
   "cell_type": "code",
   "execution_count": 86,
   "metadata": {},
   "outputs": [],
   "source": [
    "CostPerItem = 11.73\n",
    "SellingPricePerItem = 21.11\n",
    "NumberOfItemsPurchased = 6"
   ]
  },
  {
   "cell_type": "markdown",
   "metadata": {},
   "source": [
    "Mathmatical Operations on Tableau"
   ]
  },
  {
   "cell_type": "code",
   "execution_count": 87,
   "metadata": {},
   "outputs": [],
   "source": [
    "ProfitPerItem = SellingPricePerItem - CostPerItem\n",
    "ProfitPerTransaction = NumberOfItemsPurchased * ProfitPerItem\n",
    "CostPerTransaction = NumberOfItemsPurchased * CostPerItem\n",
    "SellingPricePerTransaction = NumberOfItemsPurchased * SellingPricePerItem"
   ]
  },
  {
   "cell_type": "markdown",
   "metadata": {},
   "source": [
    "CostPerTransaction Column Calculation\n",
    "\n",
    "CostPerTransaction = CostPerItem * NumberOfItemsPurchases\n",
    "> variable = dataframe['column_name']"
   ]
  },
  {
   "cell_type": "code",
   "execution_count": 88,
   "metadata": {},
   "outputs": [],
   "source": [
    "CostPerItem = data['CostPerItem']\n",
    "NumberOfItemsPurchased = data['NumberOfItemsPurchased']\n",
    "\n",
    "CostPerTransaction = CostPerItem * NumberOfItemsPurchased"
   ]
  },
  {
   "cell_type": "markdown",
   "metadata": {},
   "source": [
    "Adding a new column to a dataframe"
   ]
  },
  {
   "cell_type": "code",
   "execution_count": 89,
   "metadata": {},
   "outputs": [],
   "source": [
    "data['CostPerTransaction'] = CostPerTransaction\n",
    "data['SalesPerTransaction'] = data['SellingPricePerItem'] * data['NumberOfItemsPurchased']\n",
    "data['ProfitPerTransaction'] = data['SalesPerTransaction'] - data['CostPerTransaction']\n",
    "markup = data['ProfitPerTransaction'] / data['CostPerTransaction'] * 100"
   ]
  },
  {
   "cell_type": "markdown",
   "metadata": {},
   "source": [
    "Rounding decemal points"
   ]
  },
  {
   "cell_type": "code",
   "execution_count": 90,
   "metadata": {},
   "outputs": [],
   "source": [
    "data['Markup'] = round(markup, 1)"
   ]
  },
  {
   "cell_type": "markdown",
   "metadata": {},
   "source": [
    "Concatenating columns "
   ]
  },
  {
   "cell_type": "code",
   "execution_count": 91,
   "metadata": {},
   "outputs": [],
   "source": [
    "full_date = data['Month']+'-'+data['Day'].astype(str)+'-'+data['Year'].astype(str)\n",
    "data['FullDate']= pd.to_datetime(full_date)"
   ]
  },
  {
   "cell_type": "markdown",
   "metadata": {},
   "source": [
    "Using iloc to view specific columns/rows"
   ]
  },
  {
   "cell_type": "code",
   "execution_count": 92,
   "metadata": {},
   "outputs": [
    {
     "data": {
      "text/html": [
       "<div>\n",
       "<style scoped>\n",
       "    .dataframe tbody tr th:only-of-type {\n",
       "        vertical-align: middle;\n",
       "    }\n",
       "\n",
       "    .dataframe tbody tr th {\n",
       "        vertical-align: top;\n",
       "    }\n",
       "\n",
       "    .dataframe thead th {\n",
       "        text-align: right;\n",
       "    }\n",
       "</style>\n",
       "<table border=\"1\" class=\"dataframe\">\n",
       "  <thead>\n",
       "    <tr style=\"text-align: right;\">\n",
       "      <th></th>\n",
       "      <th>UserId</th>\n",
       "      <th>TransactionId</th>\n",
       "      <th>Year</th>\n",
       "      <th>Month</th>\n",
       "      <th>Day</th>\n",
       "      <th>Time</th>\n",
       "      <th>ItemCode</th>\n",
       "      <th>ItemDescription</th>\n",
       "      <th>NumberOfItemsPurchased</th>\n",
       "      <th>CostPerItem</th>\n",
       "      <th>SellingPricePerItem</th>\n",
       "      <th>Country</th>\n",
       "      <th>ClientKeywords</th>\n",
       "      <th>CostPerTransaction</th>\n",
       "      <th>SalesPerTransaction</th>\n",
       "      <th>ProfitPerTransaction</th>\n",
       "      <th>Markup</th>\n",
       "      <th>FullDate</th>\n",
       "    </tr>\n",
       "  </thead>\n",
       "  <tbody>\n",
       "    <tr>\n",
       "      <th>1047583</th>\n",
       "      <td>343560</td>\n",
       "      <td>6386952</td>\n",
       "      <td>2019</td>\n",
       "      <td>Feb</td>\n",
       "      <td>16</td>\n",
       "      <td>08:16:00</td>\n",
       "      <td>450030</td>\n",
       "      <td>SET/3 RED GINGHAM ROSE STORAGE BOX</td>\n",
       "      <td>3</td>\n",
       "      <td>5.18</td>\n",
       "      <td>8.29</td>\n",
       "      <td>United Kingdom</td>\n",
       "      <td>['Middle Age', 'Corporation', 'New Client']</td>\n",
       "      <td>15.54</td>\n",
       "      <td>24.87</td>\n",
       "      <td>9.33</td>\n",
       "      <td>60.0</td>\n",
       "      <td>2019-02-16</td>\n",
       "    </tr>\n",
       "    <tr>\n",
       "      <th>1047584</th>\n",
       "      <td>276528</td>\n",
       "      <td>6316717</td>\n",
       "      <td>2019</td>\n",
       "      <td>Jan</td>\n",
       "      <td>15</td>\n",
       "      <td>08:56:00</td>\n",
       "      <td>1732143</td>\n",
       "      <td>WOOD 2 DRAWER CABINET WHITE FINISH</td>\n",
       "      <td>6</td>\n",
       "      <td>9.60</td>\n",
       "      <td>10.56</td>\n",
       "      <td>United Kingdom</td>\n",
       "      <td>['Middle Age', 'Small Business', 'Loyal Client']</td>\n",
       "      <td>57.60</td>\n",
       "      <td>63.36</td>\n",
       "      <td>5.76</td>\n",
       "      <td>10.0</td>\n",
       "      <td>2019-01-15</td>\n",
       "    </tr>\n",
       "    <tr>\n",
       "      <th>1047585</th>\n",
       "      <td>341082</td>\n",
       "      <td>6140585</td>\n",
       "      <td>2018</td>\n",
       "      <td>Sep</td>\n",
       "      <td>8</td>\n",
       "      <td>10:41:00</td>\n",
       "      <td>487326</td>\n",
       "      <td>LUNCH BAG APPLE DESIGN</td>\n",
       "      <td>15</td>\n",
       "      <td>2.28</td>\n",
       "      <td>2.51</td>\n",
       "      <td>United Kingdom</td>\n",
       "      <td>['Young Adult', 'Corporation', 'New Client']</td>\n",
       "      <td>34.20</td>\n",
       "      <td>37.65</td>\n",
       "      <td>3.45</td>\n",
       "      <td>10.1</td>\n",
       "      <td>2018-09-08</td>\n",
       "    </tr>\n",
       "    <tr>\n",
       "      <th>1047586</th>\n",
       "      <td>336147</td>\n",
       "      <td>6075190</td>\n",
       "      <td>2018</td>\n",
       "      <td>Jul</td>\n",
       "      <td>20</td>\n",
       "      <td>09:32:00</td>\n",
       "      <td>460509</td>\n",
       "      <td>JUMBO BAG PINK VINTAGE PAISLEY</td>\n",
       "      <td>3</td>\n",
       "      <td>2.88</td>\n",
       "      <td>5.18</td>\n",
       "      <td>United Kingdom</td>\n",
       "      <td>['Senior', 'Solo Entrepreneur', 'Loyal Client']</td>\n",
       "      <td>8.64</td>\n",
       "      <td>15.54</td>\n",
       "      <td>6.90</td>\n",
       "      <td>79.9</td>\n",
       "      <td>2018-07-20</td>\n",
       "    </tr>\n",
       "    <tr>\n",
       "      <th>1047587</th>\n",
       "      <td>-1</td>\n",
       "      <td>6180020</td>\n",
       "      <td>2018</td>\n",
       "      <td>Oct</td>\n",
       "      <td>10</td>\n",
       "      <td>12:00:00</td>\n",
       "      <td>473739</td>\n",
       "      <td>SEASIDE FLYING DISC</td>\n",
       "      <td>6</td>\n",
       "      <td>3.40</td>\n",
       "      <td>6.12</td>\n",
       "      <td>United Kingdom</td>\n",
       "      <td>['Middle Age', 'Solo Entrepreneur', '2-5 Year ...</td>\n",
       "      <td>20.40</td>\n",
       "      <td>36.72</td>\n",
       "      <td>16.32</td>\n",
       "      <td>80.0</td>\n",
       "      <td>2018-10-10</td>\n",
       "    </tr>\n",
       "  </tbody>\n",
       "</table>\n",
       "</div>"
      ],
      "text/plain": [
       "         UserId  TransactionId  Year Month  Day      Time  ItemCode  \\\n",
       "1047583  343560        6386952  2019   Feb   16  08:16:00    450030   \n",
       "1047584  276528        6316717  2019   Jan   15  08:56:00   1732143   \n",
       "1047585  341082        6140585  2018   Sep    8  10:41:00    487326   \n",
       "1047586  336147        6075190  2018   Jul   20  09:32:00    460509   \n",
       "1047587      -1        6180020  2018   Oct   10  12:00:00    473739   \n",
       "\n",
       "                            ItemDescription  NumberOfItemsPurchased  \\\n",
       "1047583  SET/3 RED GINGHAM ROSE STORAGE BOX                       3   \n",
       "1047584  WOOD 2 DRAWER CABINET WHITE FINISH                       6   \n",
       "1047585              LUNCH BAG APPLE DESIGN                      15   \n",
       "1047586      JUMBO BAG PINK VINTAGE PAISLEY                       3   \n",
       "1047587                 SEASIDE FLYING DISC                       6   \n",
       "\n",
       "         CostPerItem  SellingPricePerItem         Country  \\\n",
       "1047583         5.18                 8.29  United Kingdom   \n",
       "1047584         9.60                10.56  United Kingdom   \n",
       "1047585         2.28                 2.51  United Kingdom   \n",
       "1047586         2.88                 5.18  United Kingdom   \n",
       "1047587         3.40                 6.12  United Kingdom   \n",
       "\n",
       "                                            ClientKeywords  \\\n",
       "1047583        ['Middle Age', 'Corporation', 'New Client']   \n",
       "1047584   ['Middle Age', 'Small Business', 'Loyal Client']   \n",
       "1047585       ['Young Adult', 'Corporation', 'New Client']   \n",
       "1047586    ['Senior', 'Solo Entrepreneur', 'Loyal Client']   \n",
       "1047587  ['Middle Age', 'Solo Entrepreneur', '2-5 Year ...   \n",
       "\n",
       "         CostPerTransaction  SalesPerTransaction  ProfitPerTransaction  \\\n",
       "1047583               15.54                24.87                  9.33   \n",
       "1047584               57.60                63.36                  5.76   \n",
       "1047585               34.20                37.65                  3.45   \n",
       "1047586                8.64                15.54                  6.90   \n",
       "1047587               20.40                36.72                 16.32   \n",
       "\n",
       "         Markup   FullDate  \n",
       "1047583    60.0 2019-02-16  \n",
       "1047584    10.0 2019-01-15  \n",
       "1047585    10.1 2018-09-08  \n",
       "1047586    79.9 2018-07-20  \n",
       "1047587    80.0 2018-10-10  "
      ]
     },
     "execution_count": 92,
     "metadata": {},
     "output_type": "execute_result"
    }
   ],
   "source": [
    "# views one row with index = 0\n",
    "data.iloc[0]\n",
    "# views rows 0 to 3\n",
    "data.iloc[0:3]\n",
    "# last five rows\n",
    "data.iloc[-5:]"
   ]
  },
  {
   "cell_type": "code",
   "execution_count": 93,
   "metadata": {},
   "outputs": [
    {
     "data": {
      "text/html": [
       "<div>\n",
       "<style scoped>\n",
       "    .dataframe tbody tr th:only-of-type {\n",
       "        vertical-align: middle;\n",
       "    }\n",
       "\n",
       "    .dataframe tbody tr th {\n",
       "        vertical-align: top;\n",
       "    }\n",
       "\n",
       "    .dataframe thead th {\n",
       "        text-align: right;\n",
       "    }\n",
       "</style>\n",
       "<table border=\"1\" class=\"dataframe\">\n",
       "  <thead>\n",
       "    <tr style=\"text-align: right;\">\n",
       "      <th></th>\n",
       "      <th>UserId</th>\n",
       "      <th>TransactionId</th>\n",
       "      <th>Year</th>\n",
       "      <th>Month</th>\n",
       "      <th>Day</th>\n",
       "      <th>Time</th>\n",
       "      <th>ItemCode</th>\n",
       "      <th>ItemDescription</th>\n",
       "      <th>NumberOfItemsPurchased</th>\n",
       "      <th>CostPerItem</th>\n",
       "      <th>SellingPricePerItem</th>\n",
       "      <th>Country</th>\n",
       "      <th>ClientKeywords</th>\n",
       "      <th>CostPerTransaction</th>\n",
       "      <th>SalesPerTransaction</th>\n",
       "      <th>ProfitPerTransaction</th>\n",
       "      <th>Markup</th>\n",
       "      <th>FullDate</th>\n",
       "    </tr>\n",
       "  </thead>\n",
       "  <tbody>\n",
       "    <tr>\n",
       "      <th>0</th>\n",
       "      <td>278166</td>\n",
       "      <td>6355745</td>\n",
       "      <td>2019</td>\n",
       "      <td>Feb</td>\n",
       "      <td>2</td>\n",
       "      <td>12:50:00</td>\n",
       "      <td>465549</td>\n",
       "      <td>FAMILY ALBUM WHITE PICTURE FRAME</td>\n",
       "      <td>6</td>\n",
       "      <td>11.73</td>\n",
       "      <td>21.11</td>\n",
       "      <td>United Kingdom</td>\n",
       "      <td>['Senior', 'Solo Entrepreneur', '2-5 Year Clie...</td>\n",
       "      <td>70.38</td>\n",
       "      <td>126.66</td>\n",
       "      <td>56.28</td>\n",
       "      <td>80.0</td>\n",
       "      <td>2019-02-02</td>\n",
       "    </tr>\n",
       "    <tr>\n",
       "      <th>1</th>\n",
       "      <td>337701</td>\n",
       "      <td>6283376</td>\n",
       "      <td>2018</td>\n",
       "      <td>Dec</td>\n",
       "      <td>26</td>\n",
       "      <td>09:06:00</td>\n",
       "      <td>482370</td>\n",
       "      <td>LONDON BUS COFFEE MUG</td>\n",
       "      <td>3</td>\n",
       "      <td>3.52</td>\n",
       "      <td>3.87</td>\n",
       "      <td>United Kingdom</td>\n",
       "      <td>['Middle Age', 'Corporation', '2-5 Year Client']</td>\n",
       "      <td>10.56</td>\n",
       "      <td>11.61</td>\n",
       "      <td>1.05</td>\n",
       "      <td>9.9</td>\n",
       "      <td>2018-12-26</td>\n",
       "    </tr>\n",
       "    <tr>\n",
       "      <th>2</th>\n",
       "      <td>267099</td>\n",
       "      <td>6385599</td>\n",
       "      <td>2019</td>\n",
       "      <td>Feb</td>\n",
       "      <td>15</td>\n",
       "      <td>09:45:00</td>\n",
       "      <td>490728</td>\n",
       "      <td>SET 12 COLOUR PENCILS DOLLY GIRL</td>\n",
       "      <td>72</td>\n",
       "      <td>0.90</td>\n",
       "      <td>1.62</td>\n",
       "      <td>France</td>\n",
       "      <td>['Middle Age', 'Corporation', '2-5 Year Client']</td>\n",
       "      <td>64.80</td>\n",
       "      <td>116.64</td>\n",
       "      <td>51.84</td>\n",
       "      <td>80.0</td>\n",
       "      <td>2019-02-15</td>\n",
       "    </tr>\n",
       "    <tr>\n",
       "      <th>3</th>\n",
       "      <td>380478</td>\n",
       "      <td>6044973</td>\n",
       "      <td>2018</td>\n",
       "      <td>Jun</td>\n",
       "      <td>22</td>\n",
       "      <td>07:14:00</td>\n",
       "      <td>459186</td>\n",
       "      <td>UNION JACK FLAG LUGGAGE TAG</td>\n",
       "      <td>3</td>\n",
       "      <td>1.73</td>\n",
       "      <td>1.90</td>\n",
       "      <td>United Kingdom</td>\n",
       "      <td>['Middle Age', 'Small Business', 'New Client']</td>\n",
       "      <td>5.19</td>\n",
       "      <td>5.70</td>\n",
       "      <td>0.51</td>\n",
       "      <td>9.8</td>\n",
       "      <td>2018-06-22</td>\n",
       "    </tr>\n",
       "    <tr>\n",
       "      <th>4</th>\n",
       "      <td>-1</td>\n",
       "      <td>6143225</td>\n",
       "      <td>2018</td>\n",
       "      <td>Sep</td>\n",
       "      <td>10</td>\n",
       "      <td>11:58:00</td>\n",
       "      <td>1733592</td>\n",
       "      <td>WASHROOM METAL SIGN</td>\n",
       "      <td>3</td>\n",
       "      <td>3.40</td>\n",
       "      <td>5.78</td>\n",
       "      <td>United Kingdom</td>\n",
       "      <td>['Middle Age', 'Solo Entrepreneur', '2-5 Year ...</td>\n",
       "      <td>10.20</td>\n",
       "      <td>17.34</td>\n",
       "      <td>7.14</td>\n",
       "      <td>70.0</td>\n",
       "      <td>2018-09-10</td>\n",
       "    </tr>\n",
       "  </tbody>\n",
       "</table>\n",
       "</div>"
      ],
      "text/plain": [
       "   UserId  TransactionId  Year Month  Day      Time  ItemCode  \\\n",
       "0  278166        6355745  2019   Feb    2  12:50:00    465549   \n",
       "1  337701        6283376  2018   Dec   26  09:06:00    482370   \n",
       "2  267099        6385599  2019   Feb   15  09:45:00    490728   \n",
       "3  380478        6044973  2018   Jun   22  07:14:00    459186   \n",
       "4      -1        6143225  2018   Sep   10  11:58:00   1733592   \n",
       "\n",
       "                     ItemDescription  NumberOfItemsPurchased  CostPerItem  \\\n",
       "0   FAMILY ALBUM WHITE PICTURE FRAME                       6        11.73   \n",
       "1              LONDON BUS COFFEE MUG                       3         3.52   \n",
       "2  SET 12 COLOUR PENCILS DOLLY GIRL                       72         0.90   \n",
       "3        UNION JACK FLAG LUGGAGE TAG                       3         1.73   \n",
       "4                WASHROOM METAL SIGN                       3         3.40   \n",
       "\n",
       "   SellingPricePerItem         Country  \\\n",
       "0                21.11  United Kingdom   \n",
       "1                 3.87  United Kingdom   \n",
       "2                 1.62          France   \n",
       "3                 1.90  United Kingdom   \n",
       "4                 5.78  United Kingdom   \n",
       "\n",
       "                                      ClientKeywords  CostPerTransaction  \\\n",
       "0  ['Senior', 'Solo Entrepreneur', '2-5 Year Clie...               70.38   \n",
       "1   ['Middle Age', 'Corporation', '2-5 Year Client']               10.56   \n",
       "2   ['Middle Age', 'Corporation', '2-5 Year Client']               64.80   \n",
       "3     ['Middle Age', 'Small Business', 'New Client']                5.19   \n",
       "4  ['Middle Age', 'Solo Entrepreneur', '2-5 Year ...               10.20   \n",
       "\n",
       "   SalesPerTransaction  ProfitPerTransaction  Markup   FullDate  \n",
       "0               126.66                 56.28    80.0 2019-02-02  \n",
       "1                11.61                  1.05     9.9 2018-12-26  \n",
       "2               116.64                 51.84    80.0 2019-02-15  \n",
       "3                 5.70                  0.51     9.8 2018-06-22  \n",
       "4                17.34                  7.14    70.0 2018-09-10  "
      ]
     },
     "execution_count": 93,
     "metadata": {},
     "output_type": "execute_result"
    }
   ],
   "source": [
    "data.head()"
   ]
  },
  {
   "cell_type": "markdown",
   "metadata": {},
   "source": [
    "show specific rows and columns"
   ]
  },
  {
   "cell_type": "code",
   "execution_count": 94,
   "metadata": {},
   "outputs": [
    {
     "data": {
      "text/plain": [
       "0          2019\n",
       "1          2018\n",
       "2          2019\n",
       "3          2018\n",
       "4          2018\n",
       "           ... \n",
       "1047583    2019\n",
       "1047584    2019\n",
       "1047585    2018\n",
       "1047586    2018\n",
       "1047587    2018\n",
       "Name: Year, Length: 1047588, dtype: int64"
      ]
     },
     "execution_count": 94,
     "metadata": {},
     "output_type": "execute_result"
    }
   ],
   "source": [
    "# all rows under 3rd column\n",
    "data.iloc[:,2]"
   ]
  },
  {
   "cell_type": "code",
   "execution_count": 95,
   "metadata": {},
   "outputs": [
    {
     "data": {
      "text/plain": [
       "'Sep'"
      ]
     },
     "execution_count": 95,
     "metadata": {},
     "output_type": "execute_result"
    }
   ],
   "source": [
    "# 5th row, 3nd column\n",
    "data.iloc[4,3]"
   ]
  },
  {
   "cell_type": "markdown",
   "metadata": {},
   "source": [
    "Split data under one column into multiple columns \n",
    "> new_var = column.str.split('sep', expand = True)"
   ]
  },
  {
   "cell_type": "code",
   "execution_count": 96,
   "metadata": {},
   "outputs": [
    {
     "name": "stderr",
     "output_type": "stream",
     "text": [
      "/var/folders/dr/5s31y68s34q25nqlpj7rlspc0000gn/T/ipykernel_50895/2168194571.py:3: FutureWarning: The default value of regex will change from True to False in a future version. In addition, single character regular expressions will *not* be treated as literal strings when regex=True.\n",
      "  data['ClientKeywords'] = data['ClientKeywords'].str.replace('[', '')\n",
      "/var/folders/dr/5s31y68s34q25nqlpj7rlspc0000gn/T/ipykernel_50895/2168194571.py:4: FutureWarning: The default value of regex will change from True to False in a future version. In addition, single character regular expressions will *not* be treated as literal strings when regex=True.\n",
      "  data['ClientKeywords'] = data['ClientKeywords'].str.replace(']', '')\n"
     ]
    }
   ],
   "source": [
    "# Remove unwanted characters before splitting using replace function\n",
    "\n",
    "data['ClientKeywords'] = data['ClientKeywords'].str.replace('[', '')\n",
    "data['ClientKeywords'] = data['ClientKeywords'].str.replace(']', '')\n",
    "data['ClientKeywords'] = data['ClientKeywords'].str.replace(\"'\", '')"
   ]
  },
  {
   "cell_type": "code",
   "execution_count": 97,
   "metadata": {},
   "outputs": [],
   "source": [
    "split_col = data['ClientKeywords'].str.split(', ', expand=True)"
   ]
  },
  {
   "cell_type": "code",
   "execution_count": 98,
   "metadata": {},
   "outputs": [],
   "source": [
    "# Creating new columns using the split columns\n",
    "\n",
    "data['ClientAge'] = split_col[0]\n",
    "data['ClientType'] = split_col[1]\n",
    "data['LengthofContract'] = split_col[2]"
   ]
  },
  {
   "cell_type": "markdown",
   "metadata": {},
   "source": [
    "Using the lower function to change item to lowercase"
   ]
  },
  {
   "cell_type": "code",
   "execution_count": 99,
   "metadata": {},
   "outputs": [],
   "source": [
    "data['ItemDescription'] = data['ItemDescription'].str.lower()"
   ]
  },
  {
   "cell_type": "markdown",
   "metadata": {},
   "source": [
    "How to merge dataframes"
   ]
  },
  {
   "cell_type": "code",
   "execution_count": 100,
   "metadata": {},
   "outputs": [],
   "source": [
    "# Import a new dataset\n",
    "seasons_df = pd.read_csv('value_inc_seasons.csv', sep=';')"
   ]
  },
  {
   "cell_type": "code",
   "execution_count": 101,
   "metadata": {},
   "outputs": [],
   "source": [
    "# merging\n",
    "# merged_df = pd.merge(df_one, df_two, on = 'key')\n",
    "\n",
    "df = pd.merge(data, seasons_df, on = 'Month')"
   ]
  },
  {
   "cell_type": "markdown",
   "metadata": {},
   "source": [
    "Dropping columns"
   ]
  },
  {
   "cell_type": "code",
   "execution_count": 102,
   "metadata": {},
   "outputs": [],
   "source": [
    "# df = df.drop('columnname', axis = 1) -> 1 meaning column\n",
    "\n",
    "df = df.drop('ClientKeywords', axis = 1)"
   ]
  },
  {
   "cell_type": "code",
   "execution_count": 103,
   "metadata": {},
   "outputs": [],
   "source": [
    "df = df.drop('Day', axis = 1)"
   ]
  },
  {
   "cell_type": "code",
   "execution_count": 104,
   "metadata": {},
   "outputs": [],
   "source": [
    "# drop multiple columns\n",
    "df = df.drop(['Year', 'Month'], axis=1)"
   ]
  },
  {
   "cell_type": "markdown",
   "metadata": {},
   "source": [
    "Export dataframe to csv"
   ]
  },
  {
   "cell_type": "code",
   "execution_count": 105,
   "metadata": {},
   "outputs": [],
   "source": [
    "df.to_csv('valueInc_Cleaned.csv', index=False)"
   ]
  }
 ],
 "metadata": {
  "interpreter": {
   "hash": "c7606b1820dd926153a760bb655cac673dae976ad40011f7f145423d0d5cea92"
  },
  "kernelspec": {
   "display_name": "Python 3.9.7 ('base')",
   "language": "python",
   "name": "python3"
  },
  "language_info": {
   "codemirror_mode": {
    "name": "ipython",
    "version": 3
   },
   "file_extension": ".py",
   "mimetype": "text/x-python",
   "name": "python",
   "nbconvert_exporter": "python",
   "pygments_lexer": "ipython3",
   "version": "3.9.7"
  },
  "orig_nbformat": 4
 },
 "nbformat": 4,
 "nbformat_minor": 2
}
